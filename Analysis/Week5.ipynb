{
 "cells": [
  {
   "cell_type": "code",
   "execution_count": 61,
   "id": "03d74576-d58a-4120-b770-5ebd85405462",
   "metadata": {},
   "outputs": [],
   "source": [
    "import ir_datasets\n",
    "import pandas as pd\n",
    "from tqdm import tqdm"
   ]
  },
  {
   "cell_type": "code",
   "execution_count": 2,
   "id": "78ecdf50-1d51-4996-8296-b55fcdf4778f",
   "metadata": {
    "collapsed": true,
    "jupyter": {
     "outputs_hidden": true
    },
    "tags": []
   },
   "outputs": [
    {
     "name": "stderr",
     "output_type": "stream",
     "text": [
      "[INFO] [starting] building msmarco-passage lookup\n",
      "[INFO] [finished] building msmarco-passage lookup: [00:45] [8841823doc] [193651.92doc/s]\n",
      "[INFO] [starting] building msmarco-document lookup\n",
      "[INFO] [finished] building msmarco-document lookup: [15:40] [3213835doc] [3416.51doc/s]\n",
      "[INFO] [starting] processing qna\n",
      "[INFO] [starting] merging train files                                                                                    \n",
      "processing qna: 64354619item [08:07, 131955.89item/s, file=eval, missing_urls=875084, key=]\n",
      "merging train files: 0doc [00:00, ?doc/s]\u001b[A\n",
      "merging train files: 12502doc [00:00, 124633.82doc/s]\u001b[A\n",
      "merging train files: 25110doc [00:00, 125352.72doc/s]\u001b[A\n",
      "merging train files: 37718doc [00:00, 125204.99doc/s]\u001b[A\n",
      "merging train files: 50326doc [00:00, 125233.63doc/s]\u001b[A\n",
      "merging train files: 62955doc [00:00, 125441.05doc/s]\u001b[A\n",
      "merging train files: 75584doc [00:00, 125506.45doc/s]\u001b[A\n",
      "merging train files: 88213doc [00:00, 125229.23doc/s]\u001b[A\n",
      "merging train files: 100871doc [00:00, 125398.95doc/s]\u001b[A\n",
      "merging train files: 113551doc [00:00, 125546.69doc/s]\u001b[A\n",
      "merging train files: 126231doc [00:01, 125641.24doc/s]\u001b[A\n",
      "merging train files: 138911doc [00:01, 125697.48doc/s]\u001b[A\n",
      "merging train files: 151591doc [00:01, 125666.53doc/s]\u001b[A\n",
      "merging train files: 164383doc [00:01, 125832.89doc/s]\u001b[A\n",
      "merging train files: 177175doc [00:01, 125965.14doc/s]\u001b[A\n",
      "merging train files: 189967doc [00:01, 125880.32doc/s]\u001b[A\n",
      "merging train files: 202759doc [00:01, 125681.68doc/s]\u001b[A\n",
      "merging train files: 215551doc [00:01, 125499.25doc/s]\u001b[A\n",
      "merging train files: 228343doc [00:01, 125398.06doc/s]\u001b[A\n",
      "merging train files: 241135doc [00:01, 125330.09doc/s]\u001b[A\n",
      "merging train files: 253927doc [00:02, 125183.22doc/s]\u001b[A\n",
      "merging train files: 266719doc [00:02, 125083.40doc/s]\u001b[A\n",
      "merging train files: 279511doc [00:02, 124995.11doc/s]\u001b[A\n",
      "merging train files: 292303doc [00:02, 124918.91doc/s]\u001b[A\n",
      "merging train files: 305095doc [00:02, 124827.40doc/s]\u001b[A\n",
      "merging train files: 317887doc [00:02, 124742.36doc/s]\u001b[A\n",
      "merging train files: 330679doc [00:02, 124642.26doc/s]\u001b[A\n",
      "merging train files: 343471doc [00:02, 124551.84doc/s]\u001b[A\n",
      "merging train files: 356263doc [00:02, 124526.44doc/s]\u001b[A\n",
      "merging train files: 369055doc [00:02, 124475.83doc/s]\u001b[A\n",
      "merging train files: 381847doc [00:03, 124391.44doc/s]\u001b[A\n",
      "merging train files: 394639doc [00:03, 124315.13doc/s]\u001b[A\n",
      "merging train files: 407431doc [00:03, 124282.06doc/s]\u001b[A\n",
      "merging train files: 420223doc [00:03, 124255.60doc/s]\u001b[A\n",
      "merging train files: 433015doc [00:03, 124237.43doc/s]\u001b[A\n",
      "merging train files: 445807doc [00:03, 124188.68doc/s]\u001b[A\n",
      "merging train files: 458599doc [00:03, 124137.25doc/s]\u001b[A\n",
      "merging train files: 471391doc [00:03, 124156.92doc/s]\u001b[A\n",
      "merging train files: 484183doc [00:03, 124158.99doc/s]\u001b[A\n",
      "merging train files: 496975doc [00:04, 124128.16doc/s]\u001b[A\n",
      "merging train files: 509767doc [00:04, 124105.28doc/s]\u001b[A\n",
      "merging train files: 522559doc [00:04, 124084.57doc/s]\u001b[A\n",
      "merging train files: 535351doc [00:04, 124088.86doc/s]\u001b[A\n",
      "merging train files: 548143doc [00:04, 124066.85doc/s]\u001b[A\n",
      "merging train files: 560935doc [00:04, 124072.17doc/s]\u001b[A\n",
      "merging train files: 573727doc [00:04, 124083.95doc/s]\u001b[A\n",
      "merging train files: 586519doc [00:04, 124106.63doc/s]\u001b[A\n",
      "merging train files: 599311doc [00:04, 124149.17doc/s]\u001b[A\n",
      "merging train files: 612103doc [00:04, 124151.23doc/s]\u001b[A\n",
      "merging train files: 624895doc [00:05, 124165.32doc/s]\u001b[A\n",
      "merging train files: 637687doc [00:05, 124151.87doc/s]\u001b[A\n",
      "merging train files: 650479doc [00:05, 124196.42doc/s]\u001b[A\n",
      "merging train files: 663271doc [00:05, 124221.76doc/s]\u001b[A\n",
      "merging train files: 676063doc [00:05, 124225.33doc/s]\u001b[A\n",
      "merging train files: 688855doc [00:05, 124234.66doc/s]\u001b[A\n",
      "merging train files: 701647doc [00:05, 124204.75doc/s]\u001b[A\n",
      "merging train files: 714439doc [00:05, 124142.68doc/s]\u001b[A\n",
      "merging train files: 727231doc [00:05, 124079.68doc/s]\u001b[A\n",
      "merging train files: 740023doc [00:05, 124074.28doc/s]\u001b[A\n",
      "merging train files: 752815doc [00:06, 124079.77doc/s]\u001b[A\n",
      "merging train files: 765607doc [00:06, 124052.41doc/s]\u001b[A\n",
      "merging train files: 778399doc [00:06, 124024.89doc/s]\u001b[A\n",
      "merging train files: 791191doc [00:06, 124008.43doc/s]\u001b[A\n",
      "merging train files: 803983doc [00:06, 123982.37doc/s]\u001b[A\n",
      "[INFO] [finished] merging train files: [00:06] [808731doc] [123948.03doc/s]                \n",
      "[INFO] [starting] merging dev files                                                        \n",
      "processing qna: 64354619item [08:14, 130202.16item/s, file=eval, missing_urls=875084, key=]\n",
      "merging dev files: 0doc [00:00, ?doc/s]\u001b[A\n",
      "merging dev files: 12151doc [00:00, 121081.71doc/s]\u001b[A\n",
      "merging dev files: 24330doc [00:00, 121478.95doc/s]\u001b[A\n",
      "merging dev files: 36716doc [00:00, 122255.13doc/s]\u001b[A\n",
      "merging dev files: 49102doc [00:00, 122519.53doc/s]\u001b[A\n",
      "merging dev files: 61488doc [00:00, 122669.26doc/s]\u001b[A\n",
      "merging dev files: 73874doc [00:00, 122742.87doc/s]\u001b[A\n",
      "merging dev files: 86260doc [00:00, 122653.40doc/s]\u001b[A\n",
      "merging dev files: 98646doc [00:00, 122676.87doc/s]\u001b[A\n",
      "[INFO] [finished] merging dev files: [00:00] [101093doc] [122486.80doc/s]                  \n",
      "[INFO] [starting] merging eval files                                                       \n",
      "processing qna: 64354619item [08:15, 129982.86item/s, file=eval, missing_urls=875084, key=]\n",
      "merging eval files: 0doc [00:00, ?doc/s]\u001b[A\n",
      "merging eval files: 21483doc [00:00, 214222.42doc/s]\u001b[A\n",
      "merging eval files: 43095doc [00:00, 215040.95doc/s]\u001b[A\n",
      "merging eval files: 64707doc [00:00, 214402.89doc/s]\u001b[A\n",
      "merging eval files: 86319doc [00:00, 213826.05doc/s]\u001b[A\n",
      "[INFO] [finished] merging eval files: [00:00] [101092doc] [213778.58doc/s]                 \n",
      "[INFO] [finished] processing qna: [08:15] [64354619item] [129857.85item/s]                 \n",
      "                                                        \r"
     ]
    }
   ],
   "source": [
    "negatives = ir_datasets.load(\"msmarco-qna/train\")\n",
    "qrels = pd.DataFrame(negatives.qrels_iter())"
   ]
  },
  {
   "cell_type": "code",
   "execution_count": 3,
   "id": "cbe0ab5e-fc6b-4513-b70f-104267192ff3",
   "metadata": {},
   "outputs": [
    {
     "data": {
      "text/html": [
       "<div>\n",
       "<style scoped>\n",
       "    .dataframe tbody tr th:only-of-type {\n",
       "        vertical-align: middle;\n",
       "    }\n",
       "\n",
       "    .dataframe tbody tr th {\n",
       "        vertical-align: top;\n",
       "    }\n",
       "\n",
       "    .dataframe thead th {\n",
       "        text-align: right;\n",
       "    }\n",
       "</style>\n",
       "<table border=\"1\" class=\"dataframe\">\n",
       "  <thead>\n",
       "    <tr style=\"text-align: right;\">\n",
       "      <th></th>\n",
       "      <th>query_id</th>\n",
       "      <th>doc_id</th>\n",
       "      <th>relevance</th>\n",
       "      <th>iteration</th>\n",
       "    </tr>\n",
       "  </thead>\n",
       "  <tbody>\n",
       "    <tr>\n",
       "      <th>0</th>\n",
       "      <td>1185869</td>\n",
       "      <td>0-0</td>\n",
       "      <td>1</td>\n",
       "      <td>0</td>\n",
       "    </tr>\n",
       "    <tr>\n",
       "      <th>1</th>\n",
       "      <td>1185869</td>\n",
       "      <td>1-0</td>\n",
       "      <td>0</td>\n",
       "      <td>0</td>\n",
       "    </tr>\n",
       "    <tr>\n",
       "      <th>2</th>\n",
       "      <td>1185869</td>\n",
       "      <td>2-0</td>\n",
       "      <td>0</td>\n",
       "      <td>0</td>\n",
       "    </tr>\n",
       "    <tr>\n",
       "      <th>3</th>\n",
       "      <td>1185869</td>\n",
       "      <td>3-0</td>\n",
       "      <td>0</td>\n",
       "      <td>0</td>\n",
       "    </tr>\n",
       "    <tr>\n",
       "      <th>4</th>\n",
       "      <td>1185869</td>\n",
       "      <td>4-0</td>\n",
       "      <td>0</td>\n",
       "      <td>0</td>\n",
       "    </tr>\n",
       "    <tr>\n",
       "      <th>...</th>\n",
       "      <td>...</td>\n",
       "      <td>...</td>\n",
       "      <td>...</td>\n",
       "      <td>...</td>\n",
       "    </tr>\n",
       "    <tr>\n",
       "      <th>8069744</th>\n",
       "      <td>461916</td>\n",
       "      <td>7066854-0</td>\n",
       "      <td>0</td>\n",
       "      <td>0</td>\n",
       "    </tr>\n",
       "    <tr>\n",
       "      <th>8069745</th>\n",
       "      <td>461916</td>\n",
       "      <td>7066855-0</td>\n",
       "      <td>0</td>\n",
       "      <td>0</td>\n",
       "    </tr>\n",
       "    <tr>\n",
       "      <th>8069746</th>\n",
       "      <td>461916</td>\n",
       "      <td>7066856-0</td>\n",
       "      <td>0</td>\n",
       "      <td>0</td>\n",
       "    </tr>\n",
       "    <tr>\n",
       "      <th>8069747</th>\n",
       "      <td>461916</td>\n",
       "      <td>2259772-0</td>\n",
       "      <td>0</td>\n",
       "      <td>0</td>\n",
       "    </tr>\n",
       "    <tr>\n",
       "      <th>8069748</th>\n",
       "      <td>461916</td>\n",
       "      <td>7066857-0</td>\n",
       "      <td>0</td>\n",
       "      <td>0</td>\n",
       "    </tr>\n",
       "  </tbody>\n",
       "</table>\n",
       "<p>8069749 rows × 4 columns</p>\n",
       "</div>"
      ],
      "text/plain": [
       "        query_id     doc_id  relevance iteration\n",
       "0        1185869        0-0          1         0\n",
       "1        1185869        1-0          0         0\n",
       "2        1185869        2-0          0         0\n",
       "3        1185869        3-0          0         0\n",
       "4        1185869        4-0          0         0\n",
       "...          ...        ...        ...       ...\n",
       "8069744   461916  7066854-0          0         0\n",
       "8069745   461916  7066855-0          0         0\n",
       "8069746   461916  7066856-0          0         0\n",
       "8069747   461916  2259772-0          0         0\n",
       "8069748   461916  7066857-0          0         0\n",
       "\n",
       "[8069749 rows x 4 columns]"
      ]
     },
     "execution_count": 3,
     "metadata": {},
     "output_type": "execute_result"
    }
   ],
   "source": [
    "qrels"
   ]
  },
  {
   "cell_type": "code",
   "execution_count": 5,
   "id": "a0f42a74-56a2-4204-8acf-1b4559bb41bb",
   "metadata": {},
   "outputs": [],
   "source": [
    "qid_grouped = qrels.groupby('query_id')"
   ]
  },
  {
   "cell_type": "code",
   "execution_count": 58,
   "id": "de02756a-572d-4420-bb7a-3e82eac38ad7",
   "metadata": {},
   "outputs": [
    {
     "data": {
      "text/plain": [
       "int"
      ]
     },
     "execution_count": 58,
     "metadata": {},
     "output_type": "execute_result"
    }
   ],
   "source": [
    "type(qid_grouped.ngroups)"
   ]
  },
  {
   "cell_type": "code",
   "execution_count": 50,
   "id": "9c6a9eea-73ba-430b-b123-1066524134cb",
   "metadata": {},
   "outputs": [
    {
     "name": "stdout",
     "output_type": "stream",
     "text": [
      "('1',        query_id     doc_id  relevance iteration\n",
      "485333        1  4063745-0          0         0\n",
      "485334        1  4063746-0          0         0\n",
      "485335        1  4063747-0          0         0\n",
      "485336        1  4063748-0          0         0\n",
      "485337        1  4063749-0          0         0\n",
      "485338        1  4063750-0          0         0\n",
      "485339        1  4063751-0          0         0\n",
      "485340        1  4063752-0          0         0\n",
      "485341        1  4063753-0          0         0\n",
      "485342        1  4063754-0          0         0)\n"
     ]
    }
   ],
   "source": [
    "for group in qid_grouped:\n",
    "    print(group)\n",
    "    break"
   ]
  },
  {
   "cell_type": "code",
   "execution_count": 59,
   "id": "ce6c9f0a-da84-438e-967a-a7a621f04697",
   "metadata": {
    "collapsed": true,
    "jupyter": {
     "outputs_hidden": true
    },
    "tags": []
   },
   "outputs": [
    {
     "ename": "TypeError",
     "evalue": "'module' object is not callable",
     "output_type": "error",
     "traceback": [
      "\u001b[0;31m---------------------------------------------------------------------------\u001b[0m",
      "\u001b[0;31mTypeError\u001b[0m                                 Traceback (most recent call last)",
      "Cell \u001b[0;32mIn[60], line 3\u001b[0m\n\u001b[1;32m      1\u001b[0m negative_counts \u001b[38;5;241m=\u001b[39m {}\n\u001b[1;32m      2\u001b[0m n_group \u001b[38;5;241m=\u001b[39m qid_grouped\u001b[38;5;241m.\u001b[39mngroups\n\u001b[0;32m----> 3\u001b[0m \u001b[38;5;28;01mwith\u001b[39;00m \u001b[43mtqdm\u001b[49m\u001b[43m(\u001b[49m\u001b[43mtotal\u001b[49m\u001b[38;5;241;43m=\u001b[39;49m\u001b[38;5;241;43m100\u001b[39;49m\u001b[43m)\u001b[49m \u001b[38;5;28;01mas\u001b[39;00m pbar:\n\u001b[1;32m      4\u001b[0m     \u001b[38;5;28;01mfor\u001b[39;00m group \u001b[38;5;129;01min\u001b[39;00m qid_grouped:\n\u001b[1;32m      5\u001b[0m         tmp \u001b[38;5;241m=\u001b[39m \u001b[38;5;241m0\u001b[39m\n",
      "\u001b[0;31mTypeError\u001b[0m: 'module' object is not callable"
     ]
    }
   ],
   "source": [
    "negative_counts = {}\n",
    "n_group = qid_grouped.ngroups\n",
    "with tqdm(total=n_group) as pbar:\n",
    "    for group in qid_grouped:\n",
    "        tmp = 0\n",
    "        # if group['relevance'].iloc[0] == 1:\n",
    "           # tmp.extend(group['doc_id'].tolist()[1:FAILURE+1])\n",
    "           # continue\n",
    "        for _, row in group[1].iterrows():\n",
    "            if row.relevance == 1:\n",
    "                break\n",
    "            else:\n",
    "                tmp+=1\n",
    "        qid = group[0]\n",
    "        negative_counts[qid] = tmp\n",
    "        pbar.update(1)"
   ]
  },
  {
   "cell_type": "code",
   "execution_count": 64,
   "id": "4c66867f-0e0d-4556-8fd8-01e3143b19f3",
   "metadata": {},
   "outputs": [
    {
     "name": "stderr",
     "output_type": "stream",
     "text": [
      "100%|█████████████████████████████████| 808731/808731 [03:55<00:00, 3439.16it/s]\n"
     ]
    }
   ],
   "source": [
    "negative_counts = {}\n",
    "for group in tqdm(qid_grouped):\n",
    "    tmp = 0\n",
    "    # if group['relevance'].iloc[0] == 1:\n",
    "       # tmp.extend(group['doc_id'].tolist()[1:FAILURE+1])\n",
    "       # continue\n",
    "    for _, row in group[1].iterrows():\n",
    "        if row.relevance == 1:\n",
    "            break\n",
    "        else:\n",
    "            tmp+=1\n",
    "    qid = group[0]\n",
    "    negative_counts[qid] = tmp"
   ]
  },
  {
   "cell_type": "code",
   "execution_count": 69,
   "id": "4bfaaaae-4140-4ae9-ad2a-9e1112a39f12",
   "metadata": {},
   "outputs": [],
   "source": [
    "from collections import Counter"
   ]
  },
  {
   "cell_type": "code",
   "execution_count": 88,
   "id": "db740d46-fcb0-4722-ba70-b5953a5a3529",
   "metadata": {},
   "outputs": [],
   "source": [
    "negatives_dist = dict(sorted(dict(Counter(negative_counts.values())).items()))"
   ]
  },
  {
   "cell_type": "code",
   "execution_count": 94,
   "id": "0a462a51-89ba-4478-b9cc-070d8dc90e71",
   "metadata": {},
   "outputs": [
    {
     "data": {
      "text/plain": [
       "{0: 98662,\n",
       " 1: 71790,\n",
       " 2: 58617,\n",
       " 3: 50297,\n",
       " 4: 44938,\n",
       " 5: 40637,\n",
       " 6: 38470,\n",
       " 7: 36036,\n",
       " 8: 33722,\n",
       " 9: 33694,\n",
       " 10: 301704,\n",
       " 11: 15,\n",
       " 12: 9,\n",
       " 13: 16,\n",
       " 14: 11,\n",
       " 15: 12,\n",
       " 16: 9,\n",
       " 17: 13,\n",
       " 18: 40,\n",
       " 19: 4,\n",
       " 21: 2,\n",
       " 22: 3,\n",
       " 23: 2,\n",
       " 24: 1,\n",
       " 25: 5,\n",
       " 26: 4,\n",
       " 27: 18}"
      ]
     },
     "execution_count": 94,
     "metadata": {},
     "output_type": "execute_result"
    }
   ],
   "source": [
    "negatives_dist"
   ]
  },
  {
   "cell_type": "code",
   "execution_count": 99,
   "id": "3d2ded9e-747c-403f-8fbb-f55e745bcea9",
   "metadata": {},
   "outputs": [
    {
     "data": {
      "image/png": "[encoded data removed]",
      "text/plain": [
       "<Figure size 640x480 with 1 Axes>"
      ]
     },
     "metadata": {},
     "output_type": "display_data"
    }
   ],
   "source": [
    "import matplotlib.pyplot as plt\n",
    "fig, ax = plt.subplots()\n",
    "\n",
    "ax.bar(negatives_dist.keys(), negatives_dist.values())\n",
    "\n",
    "nc_title = 'Negatives Distribution'\n",
    "ax.set_ylabel('Counts (log)')\n",
    "ax.set_xlabel('Negatives')\n",
    "ax.set_title(nc_title)\n",
    "ax.set_yscale('log')\n",
    "\n",
    "plt.show()"
   ]
  }
 ],
 "metadata": {
  "kernelspec": {
   "display_name": "Python 3 (ipykernel)",
   "language": "python",
   "name": "python3"
  },
  "language_info": {
   "codemirror_mode": {
    "name": "ipython",
    "version": 3
   },
   "file_extension": ".py",
   "mimetype": "text/x-python",
   "name": "python",
   "nbconvert_exporter": "python",
   "pygments_lexer": "ipython3",
   "version": "3.10.9"
  }
 },
 "nbformat": 4,
 "nbformat_minor": 5
}
