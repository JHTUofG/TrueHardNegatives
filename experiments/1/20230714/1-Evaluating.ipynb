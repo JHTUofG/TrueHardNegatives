{
 "cells": [
  {
   "cell_type": "markdown",
   "id": "a8d426d7-b00c-414d-9409-e364d12fe012",
   "metadata": {},
   "source": [
    "# Experiment 1 - Evaluating"
   ]
  },
  {
   "cell_type": "code",
   "execution_count": 1,
   "id": "b5e2919d-caef-4b4e-951d-877a7972c962",
   "metadata": {},
   "outputs": [],
   "source": [
    "BATCH_SIZE = 16 # How many triples in a mini-batch\n",
    "\n",
    "STORAGE_DIR = r'Experiment_1' # Where to get and store artefacts\n",
    "CORPUS = r'msmarco_passage' # What documents can we retrieve?\n",
    "EVAL_DATASET = r'trec-deep-learning-passages' # What is our test set?\n",
    "VARIANT = 'test-2019' # What variant of our test set are we evaluating on e.g test-2019 or test-2020\n",
    "OUTPUT_NAME = f'{VARIANT}.csv'"
   ]
  },
  {
   "cell_type": "code",
   "execution_count": 2,
   "id": "376d89f0-e533-4489-9327-a087cbc27cc9",
   "metadata": {},
   "outputs": [
    {
     "name": "stderr",
     "output_type": "stream",
     "text": [
      "/home/jht412/anaconda3/envs/py310_20230225/lib/python3.10/site-packages/tqdm/auto.py:22: TqdmWarning: IProgress not found. Please update jupyter and ipywidgets. See https://ipywidgets.readthedocs.io/en/stable/user_install.html\n",
      "  from .autonotebook import tqdm as notebook_tqdm\n",
      "PyTerrier 0.9.2 has loaded Terrier 5.7 (built by craigm on 2022-11-10 18:30) and terrier-helper 0.0.7\n",
      "\n",
      "No etc/terrier.properties, using terrier.default.properties for bootstrap configuration.\n"
     ]
    }
   ],
   "source": [
    "import pyterrier as pt\n",
    "import os\n",
    "from pyterrier_t5 import MonoT5ReRanker\n",
    "from pyterrier.measures import RR, MAP, NDCG\n",
    "import argparse\n",
    "import logging\n",
    "import pandas as pd\n",
    "from tqdm import tqdm_notebook as tqdm\n",
    "\n",
    "os.environ['JAVA_HOME'] = \"/usr/lib/jvm/jdk-17\"\n",
    "pt.init()"
   ]
  },
  {
   "cell_type": "code",
   "execution_count": 3,
   "id": "c2021829-ba1a-44d6-87c3-b97f6cc9d309",
   "metadata": {},
   "outputs": [],
   "source": [
    "os.makedirs(os.path.join(STORAGE_DIR, 'results'), exist_ok=True)"
   ]
  },
  {
   "cell_type": "code",
   "execution_count": 4,
   "id": "c8e99de6-d7fa-4200-bc21-ccec97bd28db",
   "metadata": {},
   "outputs": [
    {
     "name": "stdout",
     "output_type": "stream",
     "text": [
      "20:55:03.904 [main] WARN org.terrier.structures.BaseCompressingMetaIndex - Structure meta reading data file directly from disk (SLOW) - try index.meta.data-source=fileinmem in the index properties file. 1.9 GiB of memory would be required.\n"
     ]
    }
   ],
   "source": [
    "bm25 = pt.BatchRetrieve.from_dataset(CORPUS, 'terrier_stemmed_text', wmodel='BM25', metadata=['docno', 'text'])\n",
    "dataset = pt.get_dataset(EVAL_DATASET)"
   ]
  },
  {
   "cell_type": "code",
   "execution_count": 5,
   "id": "ccfff153-c96b-43d3-8846-85e0e4d50874",
   "metadata": {},
   "outputs": [
    {
     "name": "stderr",
     "output_type": "stream",
     "text": [
      "/tmp/ipykernel_51504/1289394769.py:9: DeprecationWarning: specifying meta and meta_lengths in IterDictIndexer.index() is deprecated, use constructor instead\n",
      "  indexref = iter_indexer.index(msmarco_generate(), meta={'docno' : 20, 'text': 4096})\n"
     ]
    },
    {
     "name": "stdout",
     "output_type": "stream",
     "text": [
      "20:55:33.805 [ForkJoinPool-1-worker-1] WARN org.terrier.structures.indexing.Indexer - Adding an empty document to the index (500080) - further warnings are suppressed\n",
      "21:05:05.482 [ForkJoinPool-1-worker-1] WARN org.terrier.structures.indexing.Indexer - Indexed 5 empty documents\n"
     ]
    }
   ],
   "source": [
    "def msmarco_generate():\n",
    "    dataset = pt.get_dataset(\"trec-deep-learning-passages\")\n",
    "    with pt.io.autoopen(dataset.get_corpus()[0], 'rt') as corpusfile:\n",
    "        for l in corpusfile:\n",
    "            docno, passage = l.split(\"\\t\")\n",
    "            yield {'docno' : docno, 'text' : passage}\n",
    "\n",
    "iter_indexer = pt.IterDictIndexer(\"./passage_index\")\n",
    "indexref = iter_indexer.index(msmarco_generate(), meta={'docno' : 20, 'text': 4096})\n",
    "index = pt.IndexFactory.of(indexref)"
   ]
  },
  {
   "cell_type": "code",
   "execution_count": 6,
   "id": "351bbfa2-8fa9-45fb-b514-58eb375c46e5",
   "metadata": {},
   "outputs": [],
   "source": [
    "BASELINE_DIR = f'{STORAGE_DIR}/model_base'\n",
    "NEGATIVE_DIR = f'{STORAGE_DIR}/model_new'"
   ]
  },
  {
   "cell_type": "code",
   "execution_count": 9,
   "id": "35bfa2fb-e0cb-4d21-8ca9-193864d52ba8",
   "metadata": {},
   "outputs": [
    {
     "name": "stderr",
     "output_type": "stream",
     "text": [
      "monoT5: 100%|████████████████████████| 12078/12078 [09:18<00:00, 21.64batches/s]\n",
      "monoT5: 100%|████████████████████████| 12078/12078 [09:21<00:00, 21.50batches/s]\n"
     ]
    }
   ],
   "source": [
    "baselinet5 = bm25 >> pt.text.get_text(index, \"text\") >> MonoT5ReRanker(model=BASELINE_DIR, batch_size=BATCH_SIZE)\n",
    "truenegative_T5 = bm25 >> pt.text.get_text(index, \"text\") >> MonoT5ReRanker(model=NEGATIVE_DIR, batch_size=BATCH_SIZE)\n",
    "\n",
    "res = pt.Experiment(\n",
    "  [baselinet5, truenegative_T5],\n",
    "  dataset.get_topics(variant=VARIANT),\n",
    "  dataset.get_qrels(variant=VARIANT),\n",
    "  eval_metrics=[RR(rel=2), MAP(rel=2), NDCG(cutoff=10)],\n",
    "  baseline=0,\n",
    "  names=[\"Standard MonoT5\", \"Hard Negative MonoT5\"]\n",
    ")"
   ]
  },
  {
   "cell_type": "markdown",
   "id": "c0994f76-fe4b-41fd-90de-6bacf8706b32",
   "metadata": {},
   "source": [
    "## Save the result"
   ]
  },
  {
   "cell_type": "code",
   "execution_count": 10,
   "id": "04f69b9b-203b-4a29-9f47-aca4f1a16717",
   "metadata": {},
   "outputs": [],
   "source": [
    "res.to_csv(os.path.join(STORAGE_DIR, 'results', OUTPUT_NAME))"
   ]
  },
  {
   "cell_type": "code",
   "execution_count": null,
   "id": "17e0a383-638c-4815-b6cf-ae11d94547c5",
   "metadata": {},
   "outputs": [],
   "source": []
  }
 ],
 "metadata": {
  "kernelspec": {
   "display_name": "Python 3 (ipykernel)",
   "language": "python",
   "name": "python3"
  },
  "language_info": {
   "codemirror_mode": {
    "name": "ipython",
    "version": 3
   },
   "file_extension": ".py",
   "mimetype": "text/x-python",
   "name": "python",
   "nbconvert_exporter": "python",
   "pygments_lexer": "ipython3",
   "version": "3.10.9"
  }
 },
 "nbformat": 4,
 "nbformat_minor": 5
}
